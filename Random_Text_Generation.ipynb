{
 "cells": [
  {
   "cell_type": "code",
   "execution_count": 164,
   "metadata": {},
   "outputs": [],
   "source": [
    "#Problem2\n",
    "#import libraries\n",
    "from ngram import BasicNgram \n",
    "from nltk.tokenize import sent_tokenize, word_tokenize\n",
    "from nltk import bigrams, trigrams\n",
    "import random\n",
    "\n",
    "#read the corpus\n",
    "def text_generation(corpus_path,n, start_symbol = False):\n",
    "    \"\"\"\n",
    "    This is a function, which generates a text of 100 words using the ngram model.\n",
    "    \n",
    "    Parameters: \n",
    "    corpus_path(str): it takes the absolute path for the corpus\n",
    "    \n",
    "    Return: \n",
    "    None\n",
    "    \"\"\"\n",
    "    data = open(corpus_path,'r').read()\n",
    "    data = data.replace(\"\\n\",\"\")\n",
    "    tokens_sentences =sent_tokenize(data) \n",
    "    tokens = []\n",
    "    \n",
    "    #tokenize the corpus in sentences and words\n",
    "    for each in tokens_sentences:\n",
    "        tokens_w = word_tokenize(each)\n",
    "        tokens += tokens_w\n",
    "        \n",
    "    #use ngrams to determine probability distribution forthe next word(s)\n",
    "    ngram = BasicNgram(n,tokens)\n",
    "    if start_symbol:\n",
    "        random_word = [start_symbol] *(n-1)\n",
    "    else:\n",
    "        if n == 2:\n",
    "            random_word = [random.choice(tokens)]\n",
    "        elif n == 3:\n",
    "            random_word = list(random.choice(list(bigrams(tokens))))\n",
    "        else:\n",
    "            random_word = list(random.choice(list(trigrams(tokens))))         \n",
    "    \n",
    "    context_word = random_word\n",
    "    \n",
    "    for story in range(1, 100):\n",
    "        word = ngram[tuple(context_word[-(n-1):])].generate()\n",
    "        context_word.append(word)\n",
    "    print((\" \").join(context_word))"
   ]
  },
  {
   "cell_type": "code",
   "execution_count": 168,
   "metadata": {
    "scrolled": true
   },
   "outputs": [
    {
     "name": "stdout",
     "output_type": "stream",
     "text": [
      "pudding ? What a want , whom he is always played by the smallcircular room and in full of his smiling , complained of the major-domo came themaid , and plainly forbids remarriage while on . `` the closer up a retired up at PrincessMary . Princess ... Well , with her hand thereport he 's letter to draw adeep voice , with Berg , to Prince Peter Ivanovich , and they were shouting of a half with effort , a 'dog , picking out a bit of his quarters.Some forty miles from ten paces apart , and flying projectiles\n",
      "<$> War , and satisfied immediately overcame him the ruin him . It 's guns were fixed on thebed with their whole mass of his friend . His Highness has been Moscow nor atKomoneno 's arm and tellher something , and shoutingand squeezing desperately , Andrew with him , now : they would throw his brothers say she wasalways liable to deceive , addressing the order her speech , and of the whine of baseness andprofligacy . `` 1543 '' answered Prince Galitsyn , disorderly confusedmasses.The remains on Pierre'saccount . And love trembles , formed two cases . `` always\n"
     ]
    }
   ],
   "source": [
    "text_generation('Warandpeace.txt', 2)#bigram\n",
    "print('\\n')\n",
    "text_generation('Warandpeace.txt', 2, start_symbol ='<$>')"
   ]
  },
  {
   "cell_type": "code",
   "execution_count": 169,
   "metadata": {
    "scrolled": true
   },
   "outputs": [
    {
     "name": "stdout",
     "output_type": "stream",
     "text": [
      ", and stamped her foot under her chin.Nurse Savishna , knitting his brows , held in the enemy were most diverse and personal , human reason replies : every timeconquerors appear there have beena fine tactical war '' ; then came the oldcountess ' voice from behind thebank by unseen hands . Beforeanalyzing the properties of manure , and a passionate feelingwas beginning to reflect that besides these things . One officer told Rostov the contents of his uniform and ashaggy cap , knelt sighing and the sutlers . Onreceiving Boris ' -- a thing existed.After dinner Speranski 's intimate acquaintances\n",
      "<$> <$> War and went to bed , and I wished for ? '' But what nonsense all this is how ithappened.When he woke calm andcheerful.But at noon the adjutant with the Emperor was there standing behind Pierre , giving his arm and let her goanywhere without him , became distorted by anger , which in their shirt sleeves rolled up , and the history of more recentwarfare seemed to her mother 's duties . Dolokhovrecovered , and so on -- it is green . It was a long time . `` Platon Karataev told a story -- they no longer\n"
     ]
    }
   ],
   "source": [
    "text_generation('Warandpeace.txt', 3)#trigram\n",
    "print('\\n')\n",
    "text_generation('Warandpeace.txt', 3, start_symbol ='<$>')"
   ]
  },
  {
   "cell_type": "code",
   "execution_count": 170,
   "metadata": {},
   "outputs": [
    {
     "name": "stdout",
     "output_type": "stream",
     "text": [
      "his cloak . It was cold and uncanny in the rapid current in the middle of the Arbat Street , near the Church of the Assumption built over the graves ofvictims of the plague . `` I am very glad , '' said the count . `` What was it about ? '' thought he . `` Here , in the village itself and behind the accountant , crashed to earth withhis horse . Zherkov and the staff officer hadtold him the whole field was covered with a pink quilt , and that it is all so strange , '' replied Nicholas\n",
      "<$> <$> <$> War and PeaceByLeo Tolstoy1 WAR AND PEACEBy Leo Tolstoy/TolstoiBOOK ONE : 1805CHAPTER I '' Well , everything is nowso smooth and regular.2497 CHAPTER IXFor the solution of the problem , but never so strongly as now . Then there wouldnot be war because Paul Ivanovich had offended Michael Ivanovich . `` Michael Ivanovich did not at once take his arm from the waist of Mademoiselle471 Bourienne who had not been injured , he found that this was la grace.After that a long-frocked abbe was brought to Pierre 's greatestweakness -- the one to which he ( like allthat exists\n"
     ]
    }
   ],
   "source": [
    "text_generation('Warandpeace.txt', 4)#fourgram\n",
    "print('\\n')\n",
    "text_generation('Warandpeace.txt', 4, start_symbol ='<$>')"
   ]
  },
  {
   "cell_type": "markdown",
   "metadata": {},
   "source": [
    "## Findings ##\n",
    "Since not only the frequency of words is important for the generation of the text, but also the context in which the words appear, two corpora, the King James Bible and Tolstois' \"War and Peace\" were generated, varying ngrams from 2 to 4. Using bigrams and especially trigrams a significant improvement in the quality of the generated text can be observed. The wider the ngram range is set, i.e. the larger the context involved, the more precisely words can be classified, which has a positive impact on the readability of the text. That is because with bigrams and especially trigrams longer continuous text sequences can be generated as such, for instance compund words and multi-word expressions, thus maintaining a their meaning and part of the sentence structure."
   ]
  }
 ],
 "metadata": {
  "kernelspec": {
   "display_name": "Python 3 (ipykernel)",
   "language": "python",
   "name": "python3"
  },
  "language_info": {
   "codemirror_mode": {
    "name": "ipython",
    "version": 3
   },
   "file_extension": ".py",
   "mimetype": "text/x-python",
   "name": "python",
   "nbconvert_exporter": "python",
   "pygments_lexer": "ipython3",
   "version": "3.8.10"
  }
 },
 "nbformat": 4,
 "nbformat_minor": 4
}
